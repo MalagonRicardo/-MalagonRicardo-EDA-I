{
 "cells": [
  {
   "attachments": {},
   "cell_type": "markdown",
   "metadata": {},
   "source": [
    "# Introducción al lenguaje de programación Python\n",
    "\n",
    "\n",
    "\n",
    "\n"
   ]
  },
  {
   "attachments": {},
   "cell_type": "markdown",
   "metadata": {},
   "source": [
    "### Variables y tipos\n",
    "* Los nombres de las variables son alfanuméricos(a-z,A-Z,0-9) y empiezan con una letra minúscula.\n",
    "* No se especifíca el tipo de variable, está implícito al asignar un valor.\n",
    "\n",
    "\n",
    "Inicializando variables:"
   ]
  },
  {
   "cell_type": "code",
   "execution_count": 3,
   "metadata": {},
   "outputs": [
    {
     "name": "stdout",
     "output_type": "stream",
     "text": [
      "10\n",
      "Hola Mundo\n"
     ]
    }
   ],
   "source": [
    "x = 10  #variable de tipo entero\n",
    "print(x)\n",
    "\n",
    "cadena = \"Hola Mundo\"  #variable de tipo cadena\n",
    "print(cadena)"
   ]
  },
  {
   "attachments": {},
   "cell_type": "markdown",
   "metadata": {},
   "source": [
    "Se asigna un miso valor a 3 variables: "
   ]
  },
  {
   "cell_type": "code",
   "execution_count": 4,
   "metadata": {},
   "outputs": [
    {
     "name": "stdout",
     "output_type": "stream",
     "text": [
      "10 10 10\n"
     ]
    }
   ],
   "source": [
    "x = y = z = 10\n",
    "print(x,y,z)"
   ]
  },
  {
   "attachments": {},
   "cell_type": "markdown",
   "metadata": {},
   "source": [
    "la función type() permite conocer el tipo de una variable       "
   ]
  },
  {
   "cell_type": "code",
   "execution_count": 5,
   "metadata": {},
   "outputs": [
    {
     "data": {
      "text/plain": [
       "int"
      ]
     },
     "execution_count": 5,
     "metadata": {},
     "output_type": "execute_result"
    }
   ],
   "source": [
    "type(x)"
   ]
  },
  {
   "cell_type": "code",
   "execution_count": 6,
   "metadata": {},
   "outputs": [
    {
     "data": {
      "text/plain": [
       "str"
      ]
     },
     "execution_count": 6,
     "metadata": {},
     "output_type": "execute_result"
    }
   ],
   "source": [
    "type(cadena)"
   ]
  },
  {
   "attachments": {},
   "cell_type": "markdown",
   "metadata": {},
   "source": [
    "Se pueden cambiar los valores de las variables y el tipo se cambia automaticamente:"
   ]
  },
  {
   "cell_type": "code",
   "execution_count": 7,
   "metadata": {},
   "outputs": [],
   "source": [
    "x = \"Hola Mundo\"\n",
    "cadena = 10"
   ]
  },
  {
   "cell_type": "code",
   "execution_count": 9,
   "metadata": {},
   "outputs": [
    {
     "data": {
      "text/plain": [
       "str"
      ]
     },
     "execution_count": 9,
     "metadata": {},
     "output_type": "execute_result"
    }
   ],
   "source": [
    "type(x)"
   ]
  },
  {
   "cell_type": "code",
   "execution_count": 10,
   "metadata": {},
   "outputs": [
    {
     "data": {
      "text/plain": [
       "int"
      ]
     },
     "execution_count": 10,
     "metadata": {},
     "output_type": "execute_result"
    }
   ],
   "source": [
    "type(cadena)"
   ]
  },
  {
   "attachments": {},
   "cell_type": "markdown",
   "metadata": {},
   "source": [
    "\n",
    "Cuando una variable tiene un valor constante, por convención, el nombre se escribe en mayúsculas:"
   ]
  },
  {
   "cell_type": "code",
   "execution_count": 11,
   "metadata": {},
   "outputs": [],
   "source": [
    "SEGUNDOS_POR_DIA = 60 * 60 * 24\n",
    "PI = 3.14"
   ]
  },
  {
   "attachments": {},
   "cell_type": "markdown",
   "metadata": {},
   "source": [
    "### Cadenas\n",
    "\n",
    "Las cadenas pueden ser definidas usando comilla simple (') o comilla doble (\"). Son inmutanbles:"
   ]
  },
  {
   "cell_type": "code",
   "execution_count": 13,
   "metadata": {},
   "outputs": [
    {
     "name": "stdout",
     "output_type": "stream",
     "text": [
      "Hola \n",
      "Mundo\n",
      "Hola Mundo\n"
     ]
    }
   ],
   "source": [
    "cadena1 = 'Hola '\n",
    "cadena2 = \"Mundo\"\n",
    "print(cadena1)\n",
    "print(cadena2)\n",
    "concat_cadenas = cadena1 + cadena2 #concatenacion de cadenas\n",
    "print(concat_cadenas)"
   ]
  },
  {
   "attachments": {},
   "cell_type": "markdown",
   "metadata": {},
   "source": [
    "Usamos la función str() para concatenar un número y una cadena:"
   ]
  },
  {
   "cell_type": "code",
   "execution_count": 14,
   "metadata": {},
   "outputs": [
    {
     "name": "stdout",
     "output_type": "stream",
     "text": [
      "Hola Mundo 3\n"
     ]
    }
   ],
   "source": [
    "num_cadena = concat_cadenas + ' '+ str(3)\n",
    "print(num_cadena)"
   ]
  },
  {
   "attachments": {},
   "cell_type": "markdown",
   "metadata": {},
   "source": [
    "Para concatenar cadenas se recomienda el uso de la función format(), en lugar del viejo estilo del operador '+':"
   ]
  },
  {
   "cell_type": "code",
   "execution_count": 15,
   "metadata": {},
   "outputs": [
    {
     "name": "stdout",
     "output_type": "stream",
     "text": [
      "Hola  Mundo 3\n"
     ]
    }
   ],
   "source": [
    "num_cadena = \"{} {} {}\".format(cadena1, cadena2, 3)\n",
    "print(num_cadena)"
   ]
  },
  {
   "attachments": {},
   "cell_type": "markdown",
   "metadata": {},
   "source": [
    "Por medio de la función format, se puede cambiar el orden en que se imprimen las\n",
    "variables:\n"
   ]
  },
  {
   "cell_type": "code",
   "execution_count": 16,
   "metadata": {},
   "outputs": [
    {
     "name": "stdout",
     "output_type": "stream",
     "text": [
      "Cambiando el orden: Mundo  3  Hola  #\n"
     ]
    }
   ],
   "source": [
    "num_cadena = \"Cambiando el orden: {1}  {2}  {0} #\".format(cadena1, cadena2, 3)\n",
    "print(num_cadena)"
   ]
  },
  {
   "attachments": {},
   "cell_type": "markdown",
   "metadata": {},
   "source": [
    "# Operadores\n",
    "\n",
    "Aritméticos: +, -, *, /"
   ]
  },
  {
   "cell_type": "code",
   "execution_count": 20,
   "metadata": {},
   "outputs": [
    {
     "name": "stdout",
     "output_type": "stream",
     "text": [
      "6\n",
      "18\n",
      "6\n",
      "2.0\n",
      "0\n",
      "7.1\n",
      "4\n"
     ]
    }
   ],
   "source": [
    "print( 1 + 5 )\n",
    "print( 6 * 3 )\n",
    "print( 10 - 4 )\n",
    "print( 100 / 50 )\n",
    "print(10 % 2)\n",
    "print( ((20 * 3) + (10 + 1))/ 10)\n",
    "print( 2**2 )"
   ]
  },
  {
   "attachments": {},
   "cell_type": "markdown",
   "metadata": {},
   "source": [
    "Booleanos: and, not, or"
   ]
  },
  {
   "cell_type": "code",
   "execution_count": 23,
   "metadata": {},
   "outputs": [
    {
     "data": {
      "text/plain": [
       "False"
      ]
     },
     "execution_count": 23,
     "metadata": {},
     "output_type": "execute_result"
    }
   ],
   "source": [
    "False and True"
   ]
  },
  {
   "attachments": {},
   "cell_type": "markdown",
   "metadata": {},
   "source": [
    "Comparación: >,<,>=,<=,=="
   ]
  },
  {
   "cell_type": "code",
   "execution_count": 22,
   "metadata": {},
   "outputs": [
    {
     "name": "stdout",
     "output_type": "stream",
     "text": [
      "False\n",
      "True\n",
      "False\n",
      "True\n"
     ]
    }
   ],
   "source": [
    "print(7 < 5)\n",
    "print(7 > 5)\n",
    "print((11*3)+2 >= 36)\n",
    "print(\"curso\" != \"CuRsO\")"
   ]
  },
  {
   "attachments": {},
   "cell_type": "markdown",
   "metadata": {},
   "source": [
    "# Listas\n",
    "\n",
    "* Valores separados por comas dentro de parentesis cuadrados.\n",
    "* Compuesta por cualquier cantidad y/o tipo de datos.\n",
    "* Se puede acceder a las listas por medio de indices comenzando desde 0 hasta el número de elementos menos uno."
   ]
  },
  {
   "attachments": {},
   "cell_type": "markdown",
   "metadata": {},
   "source": [
    "Declaración de una lista simple:"
   ]
  },
  {
   "cell_type": "code",
   "execution_count": 24,
   "metadata": {},
   "outputs": [
    {
     "name": "stdout",
     "output_type": "stream",
     "text": [
      "[31, 28, 31, 30, 31, 30, 31, 31, 30, 31, 30, 31]\n",
      "31\n",
      "31\n",
      "31\n"
     ]
    }
   ],
   "source": [
    "lista_diasDelMes=[31,28,31,30,31,30,31,31,30,31,30,31]\n",
    "\n",
    "print(lista_diasDelMes)\n",
    "print(lista_diasDelMes[0])\n",
    "print(lista_diasDelMes[6])\n",
    "print(lista_diasDelMes[11])"
   ]
  },
  {
   "attachments": {},
   "cell_type": "markdown",
   "metadata": {},
   "source": [
    "Declaración de listas anidadas:"
   ]
  },
  {
   "cell_type": "code",
   "execution_count": 25,
   "metadata": {},
   "outputs": [
    {
     "name": "stdout",
     "output_type": "stream",
     "text": [
      "[['cero', 0], ['uno', 1, 'UNO'], ['dos', 2], ['tres', 3], ['cuatro', 4], ['X', 5]]\n",
      "['cero', 0]\n",
      "['uno', 1, 'UNO']\n",
      "dos\n",
      "2\n",
      "uno\n",
      "1\n",
      "UNO\n"
     ]
    }
   ],
   "source": [
    "lista_numeros=[['cero', 0],['uno' ,1, 'UNO'],['dos' ,2],['tres', 3],['cuatro' ,4],['X' ,5]]\n",
    "\n",
    "print(lista_numeros)\n",
    "\n",
    "print(lista_numeros[0])\n",
    "print(lista_numeros[1])\n",
    "\n",
    "print(lista_numeros[2][0])\n",
    "print(lista_numeros[2][1])\n",
    "\n",
    "print(lista_numeros[1][0])\n",
    "print(lista_numeros[1][1])\n",
    "print(lista_numeros[1][2])\n"
   ]
  },
  {
   "attachments": {},
   "cell_type": "markdown",
   "metadata": {},
   "source": [
    "Se cambia el balor de uno de los elementos de la lista:"
   ]
  },
  {
   "cell_type": "code",
   "execution_count": 26,
   "metadata": {},
   "outputs": [
    {
     "name": "stdout",
     "output_type": "stream",
     "text": [
      "[['cero', 0], ['uno', 1, 'UNO'], ['dos', 2], ['tres', 3], ['cuatro', 4], ['cinco', 5]]\n"
     ]
    }
   ],
   "source": [
    "lista_numeros[5][0] = \"cinco\"\n",
    "print(lista_numeros)"
   ]
  },
  {
   "attachments": {},
   "cell_type": "markdown",
   "metadata": {},
   "source": [
    "# Tuplas\n",
    "\n",
    "* Parecidas a las listas, con valores separados por una coma.\n",
    "* Las tuplas no son mutables.\n",
    "* Se pueden aplicar las mismas operaciones que en las listas y consumen menos memoria para almacenarse.\n",
    "* Se crean utilizando parentesís o separando los valores por comas."
   ]
  },
  {
   "attachments": {},
   "cell_type": "markdown",
   "metadata": {},
   "source": [
    "Declaración de una tupla:"
   ]
  },
  {
   "cell_type": "code",
   "execution_count": 27,
   "metadata": {},
   "outputs": [
    {
     "name": "stdout",
     "output_type": "stream",
     "text": [
      "(31, 28, 31, 30, 31, 30, 31, 31, 30, 31, 30, 31)\n",
      "31\n",
      "30\n",
      "28\n"
     ]
    }
   ],
   "source": [
    "tupla_diaDelMes=(31,28,31,30,31,30,31,31,30,31,30,31)\n",
    "\n",
    "print(tupla_diaDelMes)\n",
    "print(tupla_diaDelMes[0])\n",
    "print(tupla_diaDelMes[3])\n",
    "print(tupla_diaDelMes[1])"
   ]
  },
  {
   "attachments": {},
   "cell_type": "markdown",
   "metadata": {},
   "source": [
    "Declaración de tuplas anidadas"
   ]
  },
  {
   "cell_type": "code",
   "execution_count": 28,
   "metadata": {},
   "outputs": [
    {
     "name": "stdout",
     "output_type": "stream",
     "text": [
      "(('cero', 0), ('uno', 1, 'UNO'), ('dos', 2), ('tres', 3), ('cuatro', 4), ('X', 5))\n",
      "('cero', 0)\n",
      "('uno', 1, 'UNO')\n",
      "dos\n",
      "2\n",
      "uno\n",
      "1\n",
      "UNO\n"
     ]
    }
   ],
   "source": [
    "tupla_numeros=(('cero', 0),('uno' ,1, 'UNO'),('dos' ,2),('tres', 3),('cuatro' ,4),('X' ,5))\n",
    "\n",
    "print(tupla_numeros)\n",
    "\n",
    "print(tupla_numeros[0])\n",
    "print(tupla_numeros[1])\n",
    "\n",
    "print(tupla_numeros[2][0])\n",
    "print(tupla_numeros[2][1])\n",
    "\n",
    "print(tupla_numeros[1][0])\n",
    "print(tupla_numeros[1][1])\n",
    "print(tupla_numeros[1][2])\n"
   ]
  },
  {
   "attachments": {},
   "cell_type": "markdown",
   "metadata": {},
   "source": [
    "Probando la mutabilidad de las listas vs la no mutabilidad de las tuplas:"
   ]
  },
  {
   "cell_type": "code",
   "execution_count": 29,
   "metadata": {},
   "outputs": [
    {
     "name": "stdout",
     "output_type": "stream",
     "text": [
      "valor actual 31\n",
      "valor cambiado 50\n"
     ]
    },
    {
     "ename": "TypeError",
     "evalue": "'tuple' object does not support item assignment",
     "output_type": "error",
     "traceback": [
      "\u001b[0;31m---------------------------------------------------------------------------\u001b[0m",
      "\u001b[0;31mTypeError\u001b[0m                                 Traceback (most recent call last)",
      "Cell \u001b[0;32mIn[29], line 4\u001b[0m\n\u001b[1;32m      2\u001b[0m lista_diasDelMes[\u001b[39m0\u001b[39m] \u001b[39m=\u001b[39m \u001b[39m50\u001b[39m\n\u001b[1;32m      3\u001b[0m \u001b[39mprint\u001b[39m(\u001b[39m\"\u001b[39m\u001b[39mvalor cambiado \u001b[39m\u001b[39m{}\u001b[39;00m\u001b[39m\"\u001b[39m\u001b[39m.\u001b[39mformat(lista_diasDelMes[\u001b[39m0\u001b[39m]))\n\u001b[0;32m----> 4\u001b[0m tupla_diaDelMes[\u001b[39m0\u001b[39;49m] \u001b[39m=\u001b[39m \u001b[39m50\u001b[39m\n",
      "\u001b[0;31mTypeError\u001b[0m: 'tuple' object does not support item assignment"
     ]
    }
   ],
   "source": [
    "print(\"valor actual {}\".format(lista_diasDelMes[0]))\n",
    "lista_diasDelMes[0] = 50\n",
    "print(\"valor cambiado {}\".format(lista_diasDelMes[0]))\n",
    "tupla_diaDelMes[0] = 50"
   ]
  },
  {
   "attachments": {},
   "cell_type": "markdown",
   "metadata": {},
   "source": [
    "# Tupla con nombre\n",
    "\n",
    "Este tipo de tupla permite especificar un nombre para describirla."
   ]
  },
  {
   "cell_type": "code",
   "execution_count": 33,
   "metadata": {},
   "outputs": [
    {
     "name": "stdout",
     "output_type": "stream",
     "text": [
      "planeta(nombre='Mercurio', numero=1)\n",
      "Mercurio 1\n",
      "Venus 2\n",
      "Campos de la tupla: ('nombre', 'numero')\n"
     ]
    }
   ],
   "source": [
    "from collections import namedtuple\n",
    "\n",
    "planeta = namedtuple('planeta' , ['nombre', 'numero'])\n",
    "\n",
    "planeta1 = planeta('Mercurio', 1)\n",
    "print(planeta1)\n",
    "planeta2 = planeta('Venus', 2)\n",
    "print(planeta1.nombre, planeta1.numero)\n",
    "print(planeta2[0], planeta2[1])\n",
    "\n",
    "print('Campos de la tupla: {}'.format(planeta1._fields))"
   ]
  },
  {
   "attachments": {},
   "cell_type": "markdown",
   "metadata": {},
   "source": [
    "# Diccionarios\n",
    "\n",
    "* Se crean usando {} y consta de dos partes: llave y valor.\n",
    "* Las llaves son inmutables, y contienen un solo tipo de dato. Una vez creadas no puedes cambiar su tipo.\n",
    "* El valor puede ser de cualquier tipo y se puede cambiar con el tiempo.\n",
    "* Los elementos en un diccionario no están ordenados."
   ]
  },
  {
   "attachments": {},
   "cell_type": "markdown",
   "metadata": {},
   "source": [
    "Creando un diccionario:"
   ]
  },
  {
   "cell_type": "code",
   "execution_count": 1,
   "metadata": {},
   "outputs": [
    {
     "name": "stdout",
     "output_type": "stream",
     "text": [
      "{'hidrogeno': 1, 'helio': 2, 'carbon': 6}\n",
      "1\n"
     ]
    }
   ],
   "source": [
    "elementos = {'hidrogeno': 1, 'helio': 2, 'carbon': 6}\n",
    "\n",
    "print(elementos)\n",
    "print(elementos['hidrogeno'])"
   ]
  },
  {
   "attachments": {},
   "cell_type": "markdown",
   "metadata": {},
   "source": [
    "Agregando elementos al diccionario previo:"
   ]
  },
  {
   "cell_type": "code",
   "execution_count": 2,
   "metadata": {},
   "outputs": [
    {
     "name": "stdout",
     "output_type": "stream",
     "text": [
      "{'hidrogeno': 1, 'helio': 2, 'carbon': 6, 'litio': 3, 'nitrogeno': 8}\n"
     ]
    }
   ],
   "source": [
    "elementos['litio'] = 3\n",
    "elementos['nitrogeno'] = 8\n",
    "\n",
    "print(elementos)"
   ]
  },
  {
   "attachments": {},
   "cell_type": "markdown",
   "metadata": {},
   "source": [
    "Creando un nuevo diccionario:"
   ]
  },
  {
   "cell_type": "code",
   "execution_count": 3,
   "metadata": {},
   "outputs": [
    {
     "name": "stdout",
     "output_type": "stream",
     "text": [
      "{'H': {'name': 'Hydrogen', 'number': 1, 'weight': 1.00794}, 'He': {'name': 'Helium', 'number': 2, 'weight': 4.002602}}\n"
     ]
    }
   ],
   "source": [
    "elementos2 = {}\n",
    "elementos2['H'] = {'name': 'Hydrogen', 'number': 1, 'weight': 1.00794}\n",
    "elementos2['He'] = {'name': 'Helium', 'number': 2, 'weight': 4.002602}\n",
    "\n",
    "print(elementos2)"
   ]
  },
  {
   "attachments": {},
   "cell_type": "markdown",
   "metadata": {},
   "source": [
    "Imprimiendo datos de distintos elementos del diccionario y vambiando el valor de un elemento:"
   ]
  },
  {
   "cell_type": "code",
   "execution_count": 4,
   "metadata": {},
   "outputs": [
    {
     "name": "stdout",
     "output_type": "stream",
     "text": [
      "{'name': 'Hydrogen', 'number': 1, 'weight': 1.00794}\n",
      "Hydrogen\n",
      "1\n",
      "4.3\n"
     ]
    }
   ],
   "source": [
    "print(elementos2['H'])\n",
    "print(elementos2['H']['name'])\n",
    "print(elementos2['H']['number'])\n",
    "elementos2['H']['weight'] = 4.30\n",
    "print(elementos2['H']['weight'])"
   ]
  },
  {
   "attachments": {},
   "cell_type": "markdown",
   "metadata": {},
   "source": [
    "Agregando elementos a una llave:"
   ]
  },
  {
   "cell_type": "code",
   "execution_count": 5,
   "metadata": {},
   "outputs": [
    {
     "name": "stdout",
     "output_type": "stream",
     "text": [
      "{'name': 'Hydrogen', 'number': 1, 'weight': 4.3, 'gas noble': True}\n"
     ]
    }
   ],
   "source": [
    "elementos2['H'].update({'gas noble': True})\n",
    "print(elementos2['H'])"
   ]
  },
  {
   "attachments": {},
   "cell_type": "markdown",
   "metadata": {},
   "source": [
    "Muestra los elementos y las llaves:"
   ]
  },
  {
   "cell_type": "code",
   "execution_count": 6,
   "metadata": {},
   "outputs": [
    {
     "name": "stdout",
     "output_type": "stream",
     "text": [
      "dict_items([('H', {'name': 'Hydrogen', 'number': 1, 'weight': 4.3, 'gas noble': True}), ('He', {'name': 'Helium', 'number': 2, 'weight': 4.002602})])\n",
      "dict_keys(['H', 'He'])\n"
     ]
    }
   ],
   "source": [
    "print(elementos2.items())\n",
    "print(elementos2.keys())"
   ]
  },
  {
   "attachments": {},
   "cell_type": "markdown",
   "metadata": {},
   "source": [
    "# Funciones\n",
    "\n",
    "* Una función sirve para empaquetar código que sirve para ser reutilizado.\n",
    "* Se puede usar el mismo código con diferentes entradas y obtrener resultados o comportamiento de acuerdo a esos datos ."
   ]
  },
  {
   "attachments": {},
   "cell_type": "markdown",
   "metadata": {},
   "source": [
    "La función puede recibir n número de parámetros."
   ]
  },
  {
   "cell_type": "code",
   "execution_count": 7,
   "metadata": {},
   "outputs": [],
   "source": [
    "def imprime_nombre(nombre):\n",
    "    print(\"hola \"+nombre)"
   ]
  },
  {
   "attachments": {},
   "cell_type": "markdown",
   "metadata": {},
   "source": [
    "Llamada a la funcióm:"
   ]
  },
  {
   "cell_type": "code",
   "execution_count": 8,
   "metadata": {},
   "outputs": [
    {
     "name": "stdout",
     "output_type": "stream",
     "text": [
      "hola JJ\n"
     ]
    }
   ],
   "source": [
    "imprime_nombre(\"JJ\")"
   ]
  },
  {
   "attachments": {},
   "cell_type": "markdown",
   "metadata": {},
   "source": [
    "Definiendo una función que regresa el cuadrado de un número:"
   ]
  },
  {
   "cell_type": "code",
   "execution_count": 9,
   "metadata": {},
   "outputs": [],
   "source": [
    "def cuadrado(x):\n",
    "    return x**2"
   ]
  },
  {
   "cell_type": "markdown",
   "metadata": {},
   "source": []
  },
  {
   "cell_type": "code",
   "execution_count": 10,
   "metadata": {},
   "outputs": [
    {
     "name": "stdout",
     "output_type": "stream",
     "text": [
      "El cuadrado de 5 es 25\n"
     ]
    }
   ],
   "source": [
    "x=5\n",
    "# format() sirve para convertir los parámetros que recibe, en cadenas.\n",
    "print(\"El cuadrado de {} es {}\".format(x, cuadrado(x)))"
   ]
  },
  {
   "attachments": {},
   "cell_type": "markdown",
   "metadata": {},
   "source": [
    "Definiendo una función que regrese mas de un valor:"
   ]
  },
  {
   "cell_type": "code",
   "execution_count": 11,
   "metadata": {},
   "outputs": [],
   "source": [
    "def varios(x):\n",
    "    return x**2, x**3, x**4"
   ]
  },
  {
   "cell_type": "code",
   "execution_count": 12,
   "metadata": {},
   "outputs": [
    {
     "name": "stdout",
     "output_type": "stream",
     "text": [
      "4 8 16\n"
     ]
    }
   ],
   "source": [
    "val1, val2, val3 = varios(2)\n",
    "print(\"{} {} {}\".format(val1, val2, val3))"
   ]
  },
  {
   "cell_type": "code",
   "execution_count": 13,
   "metadata": {},
   "outputs": [],
   "source": [
    "def cuadrado_default(x=3):\n",
    "    return x**2"
   ]
  },
  {
   "cell_type": "code",
   "execution_count": 14,
   "metadata": {},
   "outputs": [
    {
     "data": {
      "text/plain": [
       "9"
      ]
     },
     "execution_count": 14,
     "metadata": {},
     "output_type": "execute_result"
    }
   ],
   "source": [
    "cuadrado_default()"
   ]
  },
  {
   "attachments": {},
   "cell_type": "markdown",
   "metadata": {},
   "source": [
    "Idiom: Cuando una función regresa más de un valor, se puede usar el operador '_', para no guardar un valor no deseado"
   ]
  },
  {
   "cell_type": "code",
   "execution_count": 15,
   "metadata": {},
   "outputs": [
    {
     "name": "stdout",
     "output_type": "stream",
     "text": [
      "4 16\n"
     ]
    }
   ],
   "source": [
    "val4, _, val5 = varios(2)\n",
    "print(\"{} {}\".format(val4, val5))"
   ]
  },
  {
   "attachments": {},
   "cell_type": "markdown",
   "metadata": {},
   "source": [
    "# Variables globales\n",
    "\n",
    "Hay dos espacios el global y el local. Las variables declaradas fuera de una función son globales y no se nesecita aññadir nada para declararlas de esta manera, por otro lado, todas las funciones definidas dentro de una función pertenecen al espacio local, y solo se pueden usar dentro de la función."
   ]
  },
  {
   "attachments": {},
   "cell_type": "markdown",
   "metadata": {},
   "source": [
    "Se cre una variable global:"
   ]
  },
  {
   "cell_type": "code",
   "execution_count": 16,
   "metadata": {},
   "outputs": [],
   "source": [
    "vg = 'Global'"
   ]
  },
  {
   "attachments": {},
   "cell_type": "markdown",
   "metadata": {},
   "source": [
    "Se define una función que imprime la variable global:"
   ]
  },
  {
   "cell_type": "code",
   "execution_count": 17,
   "metadata": {},
   "outputs": [],
   "source": [
    "def funcion_v1():\n",
    "    print(vg)"
   ]
  },
  {
   "cell_type": "code",
   "execution_count": 18,
   "metadata": {},
   "outputs": [
    {
     "name": "stdout",
     "output_type": "stream",
     "text": [
      "Global\n",
      "Global\n"
     ]
    }
   ],
   "source": [
    "funcion_v1()\n",
    "print(vg)"
   ]
  },
  {
   "attachments": {},
   "cell_type": "markdown",
   "metadata": {},
   "source": [
    "Se crea una variable que tiene el mismo nombre que la variable global :"
   ]
  },
  {
   "cell_type": "code",
   "execution_count": 4,
   "metadata": {},
   "outputs": [],
   "source": [
    "def funcion_v2():\n",
    "    vg = \"Local\"\n",
    "    print(vg)"
   ]
  },
  {
   "cell_type": "code",
   "execution_count": 20,
   "metadata": {},
   "outputs": [
    {
     "name": "stdout",
     "output_type": "stream",
     "text": [
      "Local\n",
      "Global\n"
     ]
    }
   ],
   "source": [
    "funcion_v2()\n",
    "print(vg)"
   ]
  },
  {
   "attachments": {},
   "cell_type": "markdown",
   "metadata": {},
   "source": [
    "Al tener una variable locak y no se le asigna un valor, se genera un error:"
   ]
  },
  {
   "cell_type": "code",
   "execution_count": 21,
   "metadata": {},
   "outputs": [],
   "source": [
    "def funcion_v3():\n",
    "    print(vg)\n",
    "    vg = \"Local\"\n",
    "    print(vg)"
   ]
  },
  {
   "cell_type": "code",
   "execution_count": 22,
   "metadata": {},
   "outputs": [
    {
     "ename": "UnboundLocalError",
     "evalue": "local variable 'vg' referenced before assignment",
     "output_type": "error",
     "traceback": [
      "\u001b[0;31m---------------------------------------------------------------------------\u001b[0m",
      "\u001b[0;31mUnboundLocalError\u001b[0m                         Traceback (most recent call last)",
      "Cell \u001b[0;32mIn[22], line 1\u001b[0m\n\u001b[0;32m----> 1\u001b[0m funcion_v3()\n",
      "Cell \u001b[0;32mIn[21], line 2\u001b[0m, in \u001b[0;36mfuncion_v3\u001b[0;34m()\u001b[0m\n\u001b[1;32m      1\u001b[0m \u001b[39mdef\u001b[39;00m \u001b[39mfuncion_v3\u001b[39m():\n\u001b[0;32m----> 2\u001b[0m     \u001b[39mprint\u001b[39m(vg)\n\u001b[1;32m      3\u001b[0m     vg \u001b[39m=\u001b[39m \u001b[39m\"\u001b[39m\u001b[39mLocal\u001b[39m\u001b[39m\"\u001b[39m\n\u001b[1;32m      4\u001b[0m     \u001b[39mprint\u001b[39m(vg)\n",
      "\u001b[0;31mUnboundLocalError\u001b[0m: local variable 'vg' referenced before assignment"
     ]
    }
   ],
   "source": [
    "funcion_v3()"
   ]
  },
  {
   "attachments": {},
   "cell_type": "markdown",
   "metadata": {},
   "source": [
    "Para resolverlo se ocupa la palabra reservada global:"
   ]
  },
  {
   "cell_type": "code",
   "execution_count": 23,
   "metadata": {},
   "outputs": [],
   "source": [
    "def funcion_v4():\n",
    "    global vg\n",
    "    print(vg)\n",
    "    vg = \"Local\"\n",
    "    print(vg)"
   ]
  },
  {
   "cell_type": "code",
   "execution_count": 24,
   "metadata": {},
   "outputs": [
    {
     "name": "stdout",
     "output_type": "stream",
     "text": [
      "Global\n",
      "Local\n",
      "Local\n"
     ]
    }
   ],
   "source": [
    "funcion_v4()\n",
    "print(vg)"
   ]
  },
  {
   "attachments": {},
   "cell_type": "markdown",
   "metadata": {},
   "source": [
    "NOTA: El manejo de variables globales dentro de una función se considera una mala práctica, se recomienda que se pase como parámetro a la función y que se regrese un valor."
   ]
  },
  {
   "attachments": {},
   "cell_type": "markdown",
   "metadata": {},
   "source": [
    "# Estructuras de control selectivas\n",
    "\n",
    "### If\n",
    "\n"
   ]
  },
  {
   "cell_type": "code",
   "execution_count": 27,
   "metadata": {},
   "outputs": [],
   "source": [
    "def obtenerMayor(param1,param2):\n",
    "    if param1 < param2:\n",
    "        print(\"{} es mayor que {}\".format(param2,param1))"
   ]
  },
  {
   "cell_type": "code",
   "execution_count": 28,
   "metadata": {},
   "outputs": [
    {
     "name": "stdout",
     "output_type": "stream",
     "text": [
      "7 es mayor que 5\n"
     ]
    }
   ],
   "source": [
    "obtenerMayor(5, 7)"
   ]
  },
  {
   "cell_type": "code",
   "execution_count": 29,
   "metadata": {},
   "outputs": [],
   "source": [
    "obtenerMayor(7, 5)"
   ]
  },
  {
   "cell_type": "code",
   "execution_count": 30,
   "metadata": {},
   "outputs": [
    {
     "name": "stdout",
     "output_type": "stream",
     "text": [
      "True\n"
     ]
    }
   ],
   "source": [
    "x = y = z = 3\n",
    "if x == y == z:\n",
    "    print(True)"
   ]
  },
  {
   "attachments": {},
   "cell_type": "markdown",
   "metadata": {},
   "source": [
    "### if_else"
   ]
  },
  {
   "cell_type": "code",
   "execution_count": 32,
   "metadata": {},
   "outputs": [
    {
     "name": "stdout",
     "output_type": "stream",
     "text": [
      "El mayor es 20\n"
     ]
    }
   ],
   "source": [
    "def obtenerMayorv2(param1,param2):\n",
    "    if param1 < param2:\n",
    "        return param2\n",
    "    else:\n",
    "        return param1\n",
    "print(\"El mayor es {}\".format(obtenerMayorv2(4, 20)))"
   ]
  },
  {
   "cell_type": "code",
   "execution_count": 34,
   "metadata": {},
   "outputs": [
    {
     "name": "stdout",
     "output_type": "stream",
     "text": [
      "El mayor es 11\n"
     ]
    }
   ],
   "source": [
    "print(\"El mayor es {}\".format(obtenerMayorv2(11, 6)))"
   ]
  },
  {
   "cell_type": "code",
   "execution_count": 36,
   "metadata": {},
   "outputs": [
    {
     "name": "stdout",
     "output_type": "stream",
     "text": [
      "El mayor es 11\n"
     ]
    }
   ],
   "source": [
    "def obtenerMayor_idiom(param1,param2):\n",
    "    valor = param2 if (param1 < param1) else param1\n",
    "    return valor\n",
    "\n",
    "print(\"El mayor es {}\".format(obtenerMayor_idiom(11, 6)))"
   ]
  },
  {
   "attachments": {},
   "cell_type": "markdown",
   "metadata": {},
   "source": [
    "### if-elif-else"
   ]
  },
  {
   "cell_type": "code",
   "execution_count": 38,
   "metadata": {},
   "outputs": [
    {
     "name": "stdout",
     "output_type": "stream",
     "text": [
      "El numero es 2\n"
     ]
    }
   ],
   "source": [
    "def numeros(num):\n",
    "    if num==1:\n",
    "        print(\"El numero es 1\")\n",
    "    elif num==2:\n",
    "        print(\"El numero es 2\")\n",
    "    elif num==3:\n",
    "        print(\"El numero es 3\")\n",
    "    elif num==4:\n",
    "        print(\"El numero es 4\")\n",
    "    else:\n",
    "        print(\"no hay opcion\")\n",
    "\n",
    "numeros(2)\n"
   ]
  },
  {
   "cell_type": "code",
   "execution_count": 39,
   "metadata": {},
   "outputs": [
    {
     "name": "stdout",
     "output_type": "stream",
     "text": [
      "no hay opcion\n"
     ]
    }
   ],
   "source": [
    "numeros(5)"
   ]
  },
  {
   "cell_type": "code",
   "execution_count": 40,
   "metadata": {},
   "outputs": [
    {
     "name": "stdout",
     "output_type": "stream",
     "text": [
      "tu numero es 2\n"
     ]
    }
   ],
   "source": [
    "def numeros_idiom(num):\n",
    "    if num in (1,2,3,4):\n",
    "        print(\"tu numero es {}\".format(num))\n",
    "    else:\n",
    "        print(\"{} no es una opcion\".format(num))\n",
    "\n",
    "numeros_idiom(2)"
   ]
  },
  {
   "cell_type": "code",
   "execution_count": 41,
   "metadata": {},
   "outputs": [
    {
     "name": "stdout",
     "output_type": "stream",
     "text": [
      "5 no es una opcion\n"
     ]
    }
   ],
   "source": [
    "numeros_idiom(5)"
   ]
  },
  {
   "cell_type": "code",
   "execution_count": 42,
   "metadata": {},
   "outputs": [
    {
     "name": "stdout",
     "output_type": "stream",
     "text": [
      "El mas grande es 10\n"
     ]
    }
   ],
   "source": [
    "def obtenerMasGrande(a, b, c):\n",
    "    if a > b:\n",
    "        if a > c:\n",
    "            return a\n",
    "        else:\n",
    "            return c\n",
    "    else:\n",
    "        if b > c:\n",
    "            return b\n",
    "        else:\n",
    "            return c\n",
    "\n",
    "print(\"El mas grande es {}\".format(obtenerMasGrande(7,10,3)))"
   ]
  },
  {
   "attachments": {},
   "cell_type": "markdown",
   "metadata": {},
   "source": [
    "# Estructuras de control repetitivas\n",
    "### Ciclo while"
   ]
  },
  {
   "cell_type": "code",
   "execution_count": 43,
   "metadata": {},
   "outputs": [
    {
     "name": "stdout",
     "output_type": "stream",
     "text": [
      "10\n",
      "9\n",
      "8\n",
      "7\n",
      "6\n",
      "5\n",
      "4\n",
      "3\n",
      "2\n",
      "1\n"
     ]
    }
   ],
   "source": [
    "def cuenta(limite):\n",
    "    i = limite\n",
    "    while True:\n",
    "        print (i)\n",
    "        i = i - 1\n",
    "        if i == 0:\n",
    "            break\n",
    "\n",
    "cuenta (10)"
   ]
  },
  {
   "cell_type": "code",
   "execution_count": 1,
   "metadata": {},
   "outputs": [
    {
     "name": "stdout",
     "output_type": "stream",
     "text": [
      "24\n"
     ]
    }
   ],
   "source": [
    "def factorial(n):\n",
    "    i = 2\n",
    "    tmp = 1\n",
    "    while i < n + 1:\n",
    "        tmp = tmp * i\n",
    "        i = i + 1\n",
    "    return tmp\n",
    "\n",
    "print(factorial(4))"
   ]
  },
  {
   "cell_type": "code",
   "execution_count": 2,
   "metadata": {},
   "outputs": [
    {
     "name": "stdout",
     "output_type": "stream",
     "text": [
      "720\n"
     ]
    }
   ],
   "source": [
    "print(factorial(6))"
   ]
  },
  {
   "attachments": {},
   "cell_type": "markdown",
   "metadata": {},
   "source": [
    "### Ciclo for\n",
    "\n",
    "Iteración en listas"
   ]
  },
  {
   "cell_type": "code",
   "execution_count": 77,
   "metadata": {},
   "outputs": [
    {
     "name": "stdout",
     "output_type": "stream",
     "text": [
      "1\n",
      "2\n",
      "3\n",
      "4\n",
      "5\n"
     ]
    }
   ],
   "source": [
    "for x in (1,2,3,4,5):\n",
    "    print(x)\n"
   ]
  },
  {
   "cell_type": "code",
   "execution_count": 78,
   "metadata": {},
   "outputs": [
    {
     "name": "stdout",
     "output_type": "stream",
     "text": [
      "0\n",
      "1\n",
      "2\n",
      "3\n",
      "4\n"
     ]
    }
   ],
   "source": [
    "for x in range(5):\n",
    "    print(x)"
   ]
  },
  {
   "cell_type": "code",
   "execution_count": 79,
   "metadata": {},
   "outputs": [
    {
     "name": "stdout",
     "output_type": "stream",
     "text": [
      "-5\n",
      "-4\n",
      "-3\n",
      "-2\n",
      "-1\n",
      "0\n",
      "1\n"
     ]
    }
   ],
   "source": [
    "for x in range(-5,2):\n",
    "    print(x)"
   ]
  },
  {
   "cell_type": "code",
   "execution_count": 83,
   "metadata": {},
   "outputs": [
    {
     "name": "stdout",
     "output_type": "stream",
     "text": [
      "uno\n",
      "dos\n",
      "tres\n",
      "cuatro\n"
     ]
    }
   ],
   "source": [
    "for num in [\"uno\", \"dos\", \"tres\", \"cuatro\"]:\n",
    "    print(num)"
   ]
  },
  {
   "attachments": {},
   "cell_type": "markdown",
   "metadata": {},
   "source": [
    "Iteracion en diccionarios"
   ]
  },
  {
   "cell_type": "code",
   "execution_count": 84,
   "metadata": {},
   "outputs": [
    {
     "name": "stdout",
     "output_type": "stream",
     "text": [
      "hidrogeno  -  1\n",
      "helio  -  2\n",
      "carbon  -  6\n"
     ]
    }
   ],
   "source": [
    "elementos = {'hidrogeno': 1, 'helio': 2, 'carbon': 6}\n",
    "\n",
    "for llave, valor in elementos.items():\n",
    "    print(llave, \" - \", valor)"
   ]
  },
  {
   "cell_type": "code",
   "execution_count": 85,
   "metadata": {},
   "outputs": [
    {
     "name": "stdout",
     "output_type": "stream",
     "text": [
      "hidrogeno\n",
      "helio\n",
      "carbon\n"
     ]
    }
   ],
   "source": [
    "for llave in elementos.keys():\n",
    "    print(llave)"
   ]
  },
  {
   "cell_type": "code",
   "execution_count": 86,
   "metadata": {},
   "outputs": [
    {
     "name": "stdout",
     "output_type": "stream",
     "text": [
      "1\n",
      "2\n",
      "6\n"
     ]
    }
   ],
   "source": [
    "for valor in elementos.values():\n",
    "    print(valor)"
   ]
  },
  {
   "cell_type": "code",
   "execution_count": 87,
   "metadata": {},
   "outputs": [
    {
     "name": "stdout",
     "output_type": "stream",
     "text": [
      "El indice es 0 y el elemento: hidrogeno\n",
      "El indice es 1 y el elemento: helio\n",
      "El indice es 2 y el elemento: carbon\n"
     ]
    }
   ],
   "source": [
    "for idx, x in enumerate(elementos):\n",
    "    print(\"El indice es {} y el elemento: {}\".format(idx, x))"
   ]
  },
  {
   "cell_type": "code",
   "execution_count": 88,
   "metadata": {},
   "outputs": [
    {
     "name": "stdout",
     "output_type": "stream",
     "text": [
      "5\n",
      "4\n",
      "3\n",
      "2\n",
      "1\n",
      "Cuenta finalizada\n"
     ]
    }
   ],
   "source": [
    "def cuenta_idiom(limite):\n",
    "    for i in range(limite, 0, -1):\n",
    "        print(i)\n",
    "    else: \n",
    "        print(\"Cuenta finalizada\")\n",
    "\n",
    "cuenta_idiom(5)"
   ]
  },
  {
   "cell_type": "code",
   "execution_count": 89,
   "metadata": {},
   "outputs": [
    {
     "name": "stdout",
     "output_type": "stream",
     "text": [
      "5\n",
      "4\n",
      "3\n"
     ]
    }
   ],
   "source": [
    "def cuenta_idiomv2(limite):\n",
    "    for i in range(limite, 0, -1):\n",
    "        print(i)\n",
    "        if i == 3:\n",
    "            break\n",
    "    else:\n",
    "        print(\"Cuenta finalizada\")\n",
    "\n",
    "cuenta_idiomv2(5)"
   ]
  },
  {
   "attachments": {},
   "cell_type": "markdown",
   "metadata": {},
   "source": [
    "# Bibiliotecas\n",
    "\n",
    "Todas las funcionalidades de Python son proporcionadas, a través de bibliotecas que se encuentran en la colección de The Python Standard Library, la mayoría de estas bibliotecas son multi-plataforma."
   ]
  },
  {
   "cell_type": "code",
   "execution_count": 90,
   "metadata": {},
   "outputs": [
    {
     "name": "stdout",
     "output_type": "stream",
     "text": [
      "-1.0\n"
     ]
    }
   ],
   "source": [
    "import math\n",
    "x = math.cos(math.pi)\n",
    "print(x) "
   ]
  },
  {
   "cell_type": "code",
   "execution_count": 91,
   "metadata": {},
   "outputs": [
    {
     "name": "stdout",
     "output_type": "stream",
     "text": [
      "-1.0\n"
     ]
    }
   ],
   "source": [
    "from math import * \n",
    "x = cos(pi)\n",
    "print(x)"
   ]
  },
  {
   "cell_type": "code",
   "execution_count": 92,
   "metadata": {},
   "outputs": [
    {
     "name": "stdout",
     "output_type": "stream",
     "text": [
      "-1.0\n"
     ]
    }
   ],
   "source": [
    "from math import cos, pi\n",
    "x= cos(pi)\n",
    "print(x)"
   ]
  },
  {
   "cell_type": "code",
   "execution_count": 93,
   "metadata": {},
   "outputs": [
    {
     "name": "stdout",
     "output_type": "stream",
     "text": [
      "['__doc__', '__file__', '__loader__', '__name__', '__package__', '__spec__', 'acos', 'acosh', 'asin', 'asinh', 'atan', 'atan2', 'atanh', 'ceil', 'comb', 'copysign', 'cos', 'cosh', 'degrees', 'dist', 'e', 'erf', 'erfc', 'exp', 'expm1', 'fabs', 'factorial', 'floor', 'fmod', 'frexp', 'fsum', 'gamma', 'gcd', 'hypot', 'inf', 'isclose', 'isfinite', 'isinf', 'isnan', 'isqrt', 'lcm', 'ldexp', 'lgamma', 'log', 'log10', 'log1p', 'log2', 'modf', 'nan', 'nextafter', 'perm', 'pi', 'pow', 'prod', 'radians', 'remainder', 'sin', 'sinh', 'sqrt', 'tan', 'tanh', 'tau', 'trunc', 'ulp']\n"
     ]
    }
   ],
   "source": [
    "print(dir(math))"
   ]
  },
  {
   "cell_type": "code",
   "execution_count": 94,
   "metadata": {},
   "outputs": [
    {
     "name": "stdout",
     "output_type": "stream",
     "text": [
      "Help on built-in function log in module math:\n",
      "\n",
      "log(...)\n",
      "    log(x, [base=math.e])\n",
      "    Return the logarithm of x to the given base.\n",
      "    \n",
      "    If the base not specified, returns the natural logarithm (base e) of x.\n",
      "\n"
     ]
    }
   ],
   "source": [
    "help(math.log)"
   ]
  },
  {
   "cell_type": "code",
   "execution_count": 95,
   "metadata": {},
   "outputs": [
    {
     "name": "stdout",
     "output_type": "stream",
     "text": [
      "-1.0\n"
     ]
    }
   ],
   "source": [
    "import math as ma\n",
    "x = ma.cos(ma.pi)\n",
    "print(x)"
   ]
  },
  {
   "attachments": {},
   "cell_type": "markdown",
   "metadata": {},
   "source": [
    "# Graficación\n",
    "\n",
    "Con ayuda de Matplotlib podemos graficar de la siguiente manera:"
   ]
  },
  {
   "cell_type": "code",
   "execution_count": 6,
   "metadata": {},
   "outputs": [
    {
     "name": "stdout",
     "output_type": "stream",
     "text": [
      "%pylab is deprecated, use %matplotlib inline and import the required libraries.\n",
      "Populating the interactive namespace from numpy and matplotlib\n"
     ]
    },
    {
     "data": {
      "image/png": "[encoded data removed]",
      "text/plain": [
       "<Figure size 640x480 with 1 Axes>"
      ]
     },
     "metadata": {},
     "output_type": "display_data"
    },
    {
     "name": "stderr",
     "output_type": "stream",
     "text": [
      "Bad pipe message: %s [b'\\x13\\xc6\\x99\\x8aQ\\x0e8\\x9b\\xe3`\\x0e\\xaa\\x92 \\xd3\\x93t\\x87 b.\\x1d\\t\\xe6\\xe2\\xbb\\xf8x\\xf4\\x18 \\xc8\\x11\\xf3Q\\x87w\\xd4\\x0e%\\xfe\\xab\\xe4?\\xd5\\x1eH#k))\\x00\\x08\\x13\\x02\\x13\\x03\\x13\\x01\\x00\\xff\\x01\\x00\\x00\\x8f\\x00\\x00\\x00\\x0e\\x00\\x0c\\x00\\x00\\t127.0.0.1\\x00\\x0b\\x00\\x04\\x03\\x00\\x01\\x02\\x00\\n\\x00\\x0c\\x00\\n\\x00\\x1d\\x00\\x17\\x00\\x1e\\x00\\x19\\x00\\x18\\x00#\\x00\\x00\\x00\\x16\\x00\\x00\\x00\\x17\\x00\\x00\\x00\\r\\x00\\x1e\\x00\\x1c\\x04\\x03\\x05\\x03\\x06\\x03\\x08\\x07\\x08\\x08\\x08\\t\\x08\\n\\x08\\x0b\\x08']\n",
      "Bad pipe message: %s [b'\\x05\\x08\\x06']\n",
      "Bad pipe message: %s [b\"\\xfa\\x8f\\xe0)\\xe1\\x01\\xb4Kq\\x92\\xad\\x02\\x86ef.\\xd6\\xc8\\x00\\x00|\\xc0,\\xc00\\x00\\xa3\\x00\\x9f\\xcc\\xa9\\xcc\\xa8\\xcc\\xaa\\xc0\\xaf\\xc0\\xad\\xc0\\xa3\\xc0\\x9f\\xc0]\\xc0a\\xc0W\\xc0S\\xc0+\\xc0/\\x00\\xa2\\x00\\x9e\\xc0\\xae\\xc0\\xac\\xc0\\xa2\\xc0\\x9e\\xc0\\\\\\xc0`\\xc0V\\xc0R\\xc0$\\xc0(\\x00k\\x00j\\xc0#\\xc0'\\x00g\\x00@\\xc0\\n\\xc0\\x14\\x009\\x008\\xc0\\t\\xc0\\x13\\x003\\x002\\x00\\x9d\\xc0\\xa1\\xc0\\x9d\\xc0Q\\x00\\x9c\\xc0\\xa0\\xc0\\x9c\\xc0P\\x00=\\x00<\\x005\\x00/\\x00\\x9a\\x00\\x99\\xc0\\x07\\xc0\\x11\\x00\\x96\\x00\\x05\\x00\\xff\\x01\\x00\\x00j\\x00\\x00\\x00\\x0e\\x00\\x0c\\x00\\x00\\t127.0.0.1\\x00\\x0b\\x00\\x04\\x03\\x00\\x01\\x02\\x00\\n\\x00\\x0c\\x00\\n\\x00\\x1d\\x00\\x17\\x00\\x1e\\x00\\x19\\x00\\x18\\x00#\\x00\\x00\\x00\\x16\\x00\\x00\\x00\\x17\\x00\\x00\\x00\\r\\x000\\x00.\\x04\\x03\\x05\\x03\\x06\\x03\\x08\\x07\\x08\\x08\\x08\\t\\x08\\n\\x08\\x0b\\x08\\x04\\x08\\x05\\x08\\x06\\x04\\x01\\x05\\x01\\x06\\x01\\x03\\x03\\x02\\x03\\x03\"]\n",
      "Bad pipe message: %s [b\"Xk\\x9f\\x1bQ\\xb0\\x8a\\x8d\\xce\\x14\\x9f\\xe1L\\xb0\\x10\\x0e\\x0e\\xa7\\x00\\x00\\xa6\\xc0,\\xc00\\x00\\xa3\\x00\\x9f\\xcc\\xa9\\xcc\\xa8\\xcc\\xaa\\xc0\\xaf\\xc0\\xad\\xc0\\xa3\\xc0\\x9f\\xc0]\\xc0a\\xc0W\\xc0S\\xc0+\\xc0/\\x00\\xa2\\x00\\x9e\\xc0\\xae\\xc0\\xac\\xc0\\xa2\\xc0\\x9e\\xc0\\\\\\xc0`\\xc0V\\xc0R\\xc0$\\xc0(\\x00k\\x00j\\xc0s\\xc0w\\x00\\xc4\\x00\\xc3\\xc0#\\xc0'\\x00g\\x00@\\xc0r\"]\n",
      "Bad pipe message: %s [b'\\x86\\x87w}\\xcb\\x14\\xb6\\x1bV\\xff\\xa1\\xdf\\xc8\\xf0!\\x92\\x98b\\x00\\x00\\xf4\\xc00\\xc0,\\xc0(\\xc0$\\xc0\\x14\\xc0\\n\\x00\\xa5\\x00\\xa3\\x00\\xa1\\x00\\x9f\\x00k\\x00j\\x00i\\x00h\\x009\\x008\\x007\\x006\\x00\\x88\\x00\\x87\\x00\\x86\\x00\\x85\\xc0\\x19\\x00\\xa7\\x00m\\x00:\\x00\\x89\\xc02\\xc0.\\xc0*\\xc0&\\xc0\\x0f\\xc0\\x05\\x00', b\"=\\x005\\x00\\x84\\xc0/\\xc0+\\xc0'\\xc0#\\xc0\\x13\\xc0\\t\\x00\\xa4\\x00\\xa2\\x00\\xa0\\x00\\x9e\\x00g\\x00@\\x00?\\x00>\\x003\\x002\\x001\\x000\\x00\\x9a\\x00\\x99\\x00\\x98\\x00\\x97\\x00E\\x00D\\x00C\\x00B\\xc0\\x18\\x00\\xa6\\x00l\\x004\\x00\\x9b\\x00F\\xc01\\xc0-\\xc0)\\xc0%\\xc0\\x0e\\xc0\\x04\\x00\\x9c\\x00<\\x00/\\x00\\x96\\x00A\\x00\\x07\\xc0\\x11\\xc0\\x07\\xc0\\x16\\x00\\x18\\xc0\\x0c\\xc0\\x02\\x00\\x05\\x00\\x04\\xc0\\x12\\xc0\\x08\\x00\\x16\\x00\\x13\\x00\\x10\\x00\\r\\xc0\\x17\\x00\\x1b\\xc0\\r\\xc0\\x03\\x00\\n\\x00\\x15\\x00\\x12\\x00\\x0f\\x00\\x0c\\x00\\x1a\\x00\\t\\x00\\x14\\x00\\x11\\x00\\x19\\x00\\x08\\x00\\x06\\x00\\x17\\x00\"]\n",
      "Bad pipe message: %s [b'1\\xed\\xd7\\xcefF\\xd8\\xf2\\x19\\xa0R\\xa3\\xec\\xb5j\\xab\\xa0\\x0c\\x00\\x00\\xa2\\xc0\\x14\\xc0\\n\\x009\\x008\\x007\\x006\\x00\\x88\\x00\\x87\\x00\\x86\\x00\\x85\\xc0\\x19\\x00:\\x00\\x89\\xc0\\x0f\\xc0\\x05\\x005\\x00\\x84\\xc0\\x13\\xc0\\t\\x003\\x002\\x001\\x000\\x00\\x9a\\x00\\x99\\x00\\x98\\x00\\x97\\x00E\\x00D\\x00C\\x00B\\xc0\\x18\\x004\\x00\\x9b\\x00F\\xc0', b'\\x04\\x00/\\x00\\x96\\x00A\\x00\\x07\\xc0\\x11\\xc0\\x07']\n",
      "Bad pipe message: %s [b'\\x93\\xab9\\xea\\x95Ih}]Eo\\xfb\\xa80+\\xb3\\x14\\r\\x00\\x00\\x86\\xc00\\xc0,\\xc0(\\xc0$\\xc0\\x14\\xc0']\n",
      "Bad pipe message: %s [b'\\x8f\\xaa\\xf4vaq\\x0bX\\xa0n\\xe1 3\\xcb]U0\\x03\\x00\\x00\\xa2\\xc0\\x14\\xc0\\n\\x009\\x008\\x007\\x006\\x00\\x88\\x00\\x87\\x00\\x86\\x00\\x85\\xc0\\x19\\x00:\\x00\\x89\\xc0\\x0f\\xc0\\x05\\x005\\x00\\x84\\xc0\\x13\\xc0\\t\\x003\\x002\\x001\\x000\\x00\\x9a\\x00\\x99\\x00\\x98\\x00\\x97\\x00E\\x00D\\x00C\\x00B\\xc0\\x18\\x004\\x00\\x9b\\x00F\\xc0\\x0e\\xc0\\x04\\x00/\\x00\\x96\\x00A\\x00\\x07\\xc0\\x11\\xc0\\x07\\xc0\\x16\\x00\\x18\\xc0\\x0c\\xc0\\x02\\x00\\x05\\x00\\x04\\xc0\\x12\\xc0\\x08\\x00\\x16\\x00\\x13\\x00\\x10\\x00\\r\\xc0\\x17\\x00\\x1b\\xc0\\r\\xc0\\x03\\x00\\n\\x00\\x15\\x00\\x12\\x00\\x0f\\x00\\x0c\\x00\\x1a\\x00\\t\\x00\\x14\\x00\\x11\\x00\\x19\\x00\\x08\\x00\\x06\\x00\\x17\\x00\\x03\\xc0\\x10\\xc0\\x06']\n",
      "Bad pipe message: %s [b'\\x05\\x01\\x06', b'']\n",
      "Bad pipe message: %s [b'']\n",
      "Bad pipe message: %s [b'\\x00\\xbe\\x00\\xbd\\xc0\\n\\xc0\\x14\\x009\\x008\\x00\\x88\\x00\\x87\\xc0\\t\\xc0\\x13\\x003\\x002\\x00\\x9a\\x00\\x99\\x00E\\x00D\\xc0\\x07\\xc0\\x11\\xc0\\x08\\xc0\\x12\\x00\\x16\\x00\\x13\\x00\\x9d\\xc0\\xa1\\xc0\\x9d\\xc0Q\\x00\\x9c\\xc0\\xa0\\xc0\\x9c\\xc0P\\x00=\\x00\\xc0\\x00<\\x00\\xba\\x005\\x00\\x84\\x00/\\x00\\x96\\x00A\\x00\\x05\\x00\\n\\x00\\xff\\x01\\x00\\x00j\\x00\\x00\\x00\\x0e\\x00\\x0c\\x00\\x00\\t127.0.0.1\\x00\\x0b\\x00\\x04\\x03\\x00\\x01\\x02\\x00\\n\\x00\\x0c\\x00\\n\\x00\\x1d\\x00\\x17\\x00\\x1e\\x00\\x19\\x00\\x18\\x00#\\x00\\x00\\x00\\x16\\x00\\x00\\x00\\x17\\x00\\x00\\x00\\r\\x000\\x00.\\x04\\x03\\x05\\x03\\x06\\x03\\x08\\x07\\x08\\x08\\x08\\t\\x08\\n\\x08\\x0b\\x08\\x04\\x08\\x05\\x08\\x06\\x04\\x01\\x05\\x01\\x06\\x01\\x03\\x03\\x02\\x03\\x03\\x01\\x02\\x01\\x03\\x02\\x02\\x02\\x04\\x02\\x05']\n",
      "Bad pipe message: %s [b'\\x10\\xc0']\n",
      "Bad pipe message: %s [b'\\xa5\\x00\\xa3\\x00\\xa1\\x00\\x9f\\x00k']\n",
      "Bad pipe message: %s [b'\\x03\\x02\\x03\\x04\\x00-\\x00\\x02\\x01\\x01\\x003\\x00&\\x00$\\x00\\x1d\\x00 \\xa0\\x9e\\xbb/\\xa2\\xab\\x01\\x01\\xea\\xa8\\xec\\xfb\\xdb\\xa9\\xd1p`\\xf8\\xf5\\xfe\\xdf\\xd8']\n",
      "Bad pipe message: %s [b'', b'\\x02']\n",
      "Bad pipe message: %s [b'\\x02']\n",
      "Bad pipe message: %s [b'\\x15\\xc0\\x0b\\xc0\\x01']\n",
      "Bad pipe message: %s [b'\\x05\\x02\\x06']\n"
     ]
    }
   ],
   "source": [
    "%pylab inline\n",
    "\n",
    "import matplotlib.pyplot as plt\n",
    "from mpl_toolkits.mplot3d import Axes3D\n",
    "\n",
    "x = linspace(0, 3, 20)\n",
    "\n",
    "fig, ax = plt.subplots(facecolor='w', edgecolor='b')\n",
    "ax.plot(x, sin(x), marker=\"o\", color=\"r\", linestyle='None')\n",
    "\n",
    "ax.grid(True)\n",
    "ax.set_xlabel('X')\n",
    "ax.set_ylabel('Y')\n",
    "ax.grid(True)\n",
    "ax.legend([\"y = x**2\"])\n",
    "\n",
    "plt.title('Puntos')\n",
    "plt.show()\n",
    "\n",
    "fig.savefig(\"grafica.png\")"
   ]
  }
 ],
 "metadata": {
  "kernelspec": {
   "display_name": "Python 3",
   "language": "python",
   "name": "python3"
  },
  "language_info": {
   "codemirror_mode": {
    "name": "ipython",
    "version": 3
   },
   "file_extension": ".py",
   "mimetype": "text/x-python",
   "name": "python",
   "nbconvert_exporter": "python",
   "pygments_lexer": "ipython3",
   "version": "3.10.4"
  },
  "orig_nbformat": 4
 },
 "nbformat": 4,
 "nbformat_minor": 2
}
